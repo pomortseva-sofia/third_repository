{
  "nbformat": 4,
  "nbformat_minor": 0,
  "metadata": {
    "colab": {
      "provenance": [],
      "authorship_tag": "ABX9TyMTaVgnJz2tZJfW8y+cEUea",
      "include_colab_link": true
    },
    "kernelspec": {
      "name": "python3",
      "display_name": "Python 3"
    },
    "language_info": {
      "name": "python"
    }
  },
  "cells": [
    {
      "cell_type": "markdown",
      "metadata": {
        "id": "view-in-github",
        "colab_type": "text"
      },
      "source": [
        "<a href=\"https://colab.research.google.com/github/pomortseva-sofia/third_repository/blob/main/Untitled12.ipynb\" target=\"_parent\"><img src=\"https://colab.research.google.com/assets/colab-badge.svg\" alt=\"Open In Colab\"/></a>"
      ]
    },
    {
      "cell_type": "code",
      "source": [
        "import numpy as np\n",
        "import pandas as pd\n",
        "import scipy.stats as stats\n",
        "\n",
        "def website_analyse(data):\n",
        "  mean_1 = np.mean(data['Просмотренные страницы'])\n",
        "  print(f'1) Среднее количество просмотренных страниц: {mean_1}')\n",
        "\n",
        "  std = np.std(data['Время на сайте (сек)'])\n",
        "  print(f'2) Стандартное отклонение: {std}')\n",
        "\n",
        "  mean_2 = np.mean(data['Время на сайте (сек)'])\n",
        "  cv = (std / mean_2) * 100\n",
        "  if cv > 0.25:\n",
        "    print(f'3) Высокая вариабельность: {cv}')\n",
        "  elif 0.1 < cv < 0.25:\n",
        "    print(f'3) Умеренная вариабельность: {cv}')\n",
        "  elif cv < 0.1:\n",
        "    print(f'3) Слабая вариабельность: {cv}')\n",
        "\n",
        "  mobile = data[data['Тип устройства'] == 'Мобильное']\n",
        "  desktop = data[data['Тип устройства'] == 'Десктоп']\n",
        "\n",
        "  m_page = mobile['Просмотренные страницы']\n",
        "  d_page = desktop['Просмотренные страницы']\n",
        "\n",
        "  t_stat, p_value = stats.ttest_ind(m_page, d_page)\n",
        "  if p_value > 0.05:\n",
        "    print(f'4) Есть статистически значимая разница в количестве страниц: {p_value}')\n",
        "  else:\n",
        "    print(f'4) Нет статистически значимой разницы: {p_value}')\n",
        "\n",
        "\n",
        "data = pd.read_csv('website_visits_december_2024.csv')\n",
        "website_analyse(data)"
      ],
      "metadata": {
        "colab": {
          "base_uri": "https://localhost:8080/"
        },
        "id": "ktvL0lKvxh_U",
        "outputId": "c9e4268b-5194-484b-9acf-dc987aeb7565"
      },
      "execution_count": 19,
      "outputs": [
        {
          "output_type": "stream",
          "name": "stdout",
          "text": [
            "1) Среднее количество просмотренных страниц: 17.486992715920916\n",
            "2) Стандартное отклонение: 1442.423060601691\n",
            "3) Высокая вариабельность: 69.22523663378661\n",
            "4) Нет статистически значимой разницы: 0.00013741248854821084\n"
          ]
        }
      ]
    },
    {
      "cell_type": "code",
      "source": [],
      "metadata": {
        "id": "vxX-bp9r9jXA"
      },
      "execution_count": null,
      "outputs": []
    }
  ]
}